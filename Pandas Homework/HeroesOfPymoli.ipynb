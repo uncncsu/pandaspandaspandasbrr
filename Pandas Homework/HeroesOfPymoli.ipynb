{
 "cells": [
  {
   "cell_type": "markdown",
   "metadata": {},
   "source": [
    "### Heroes Of Pymoli Data Analysis\n",
    "* Of the 1163 active players, the vast majority are male (84%). There also exists, a smaller, but notable proportion of female players (14%).\n",
    "\n",
    "* Our peak age demographic falls between 20-24 (44.8%) with secondary groups falling between 15-19 (18.60%) and 25-29 (13.4%).  \n",
    "-----"
   ]
  },
  {
   "cell_type": "markdown",
   "metadata": {},
   "source": [
    "### Note\n",
    "* Instructions have been included for each segment. You do not have to follow them exactly, but they are included to help you think through the steps."
   ]
  },
  {
   "cell_type": "code",
   "execution_count": 12,
   "metadata": {},
   "outputs": [],
   "source": [
    "# Dependencies and Setup\n",
    "import pandas as pd\n",
    "import numpy as np\n",
    "\n",
    "# File to Load (Remember to Change These)\n",
    "file_to_load = \"Resources/purchase_data.csv\"\n",
    "\n",
    "# Read Purchasing File and store into Pandas data frame\n",
    "purchase_data = pd.read_csv(file_to_load)"
   ]
  },
  {
   "cell_type": "markdown",
   "metadata": {},
   "source": [
    "## Player Count"
   ]
  },
  {
   "cell_type": "markdown",
   "metadata": {},
   "source": [
    "* Display the total number of players\n"
   ]
  },
  {
   "cell_type": "code",
   "execution_count": 13,
   "metadata": {},
   "outputs": [
    {
     "data": {
      "text/html": [
       "<div>\n",
       "<style scoped>\n",
       "    .dataframe tbody tr th:only-of-type {\n",
       "        vertical-align: middle;\n",
       "    }\n",
       "\n",
       "    .dataframe tbody tr th {\n",
       "        vertical-align: top;\n",
       "    }\n",
       "\n",
       "    .dataframe thead th {\n",
       "        text-align: right;\n",
       "    }\n",
       "</style>\n",
       "<table border=\"1\" class=\"dataframe\">\n",
       "  <thead>\n",
       "    <tr style=\"text-align: right;\">\n",
       "      <th></th>\n",
       "      <th>Total Players</th>\n",
       "    </tr>\n",
       "  </thead>\n",
       "  <tbody>\n",
       "    <tr>\n",
       "      <th>0</th>\n",
       "      <td>576</td>\n",
       "    </tr>\n",
       "  </tbody>\n",
       "</table>\n",
       "</div>"
      ],
      "text/plain": [
       "   Total Players\n",
       "0            576"
      ]
     },
     "execution_count": 13,
     "metadata": {},
     "output_type": "execute_result"
    }
   ],
   "source": [
    "total_players = len(purchase_data[\"SN\"].value_counts())\n",
    "total_players\n",
    "\n",
    "\n",
    "total_summary = pd.DataFrame({\"Total Players\": [total_players]})\n",
    "total_summary"
   ]
  },
  {
   "cell_type": "markdown",
   "metadata": {},
   "source": [
    "## Purchasing Analysis (Total)"
   ]
  },
  {
   "cell_type": "markdown",
   "metadata": {},
   "source": [
    "* Run basic calculations to obtain number of unique items, average price, etc.\n",
    "\n",
    "\n",
    "* Create a summary data frame to hold the results\n",
    "\n",
    "\n",
    "* Optional: give the displayed data cleaner formatting\n",
    "\n",
    "\n",
    "* Display the summary data frame\n"
   ]
  },
  {
   "cell_type": "code",
   "execution_count": 14,
   "metadata": {
    "scrolled": true
   },
   "outputs": [
    {
     "data": {
      "text/html": [
       "<div>\n",
       "<style scoped>\n",
       "    .dataframe tbody tr th:only-of-type {\n",
       "        vertical-align: middle;\n",
       "    }\n",
       "\n",
       "    .dataframe tbody tr th {\n",
       "        vertical-align: top;\n",
       "    }\n",
       "\n",
       "    .dataframe thead th {\n",
       "        text-align: right;\n",
       "    }\n",
       "</style>\n",
       "<table border=\"1\" class=\"dataframe\">\n",
       "  <thead>\n",
       "    <tr style=\"text-align: right;\">\n",
       "      <th></th>\n",
       "      <th>Number of Unique Items</th>\n",
       "      <th>Average Price</th>\n",
       "      <th>Number of Purchases</th>\n",
       "      <th>Total Revenue</th>\n",
       "    </tr>\n",
       "  </thead>\n",
       "  <tbody>\n",
       "    <tr>\n",
       "      <th>0</th>\n",
       "      <td>183</td>\n",
       "      <td>$3.05</td>\n",
       "      <td>780</td>\n",
       "      <td>$2379.77</td>\n",
       "    </tr>\n",
       "  </tbody>\n",
       "</table>\n",
       "</div>"
      ],
      "text/plain": [
       "   Number of Unique Items Average Price  Number of Purchases Total Revenue\n",
       "0                     183         $3.05                  780      $2379.77"
      ]
     },
     "execution_count": 14,
     "metadata": {},
     "output_type": "execute_result"
    }
   ],
   "source": [
    "total_item = len(purchase_data[\"Item ID\"].value_counts())\n",
    "purchases = purchase_data[\"SN\"].count()\n",
    "total_rev = purchase_data[\"Price\"].sum()\n",
    "avg_item = round(purchase_data[\"Price\"].mean(), 2)\n",
    "\n",
    "\n",
    "\n",
    "total_summary = pd.DataFrame({\"Number of Unique Items\": [total_item], \n",
    "                             \"Average Price\": \" $\" + str(avg_item), \n",
    "                             \"Number of Purchases\": [purchases], \n",
    "                             \"Total Revenue\": \"$\" + str(total_rev)})\n",
    "total_summary\n"
   ]
  },
  {
   "cell_type": "markdown",
   "metadata": {},
   "source": [
    "## Gender Demographics"
   ]
  },
  {
   "cell_type": "markdown",
   "metadata": {},
   "source": [
    "* Percentage and Count of Male Players\n",
    "\n",
    "\n",
    "* Percentage and Count of Female Players\n",
    "\n",
    "\n",
    "* Percentage and Count of Other / Non-Disclosed\n",
    "\n",
    "\n"
   ]
  },
  {
   "cell_type": "code",
   "execution_count": 15,
   "metadata": {},
   "outputs": [
    {
     "data": {
      "text/html": [
       "<div>\n",
       "<style scoped>\n",
       "    .dataframe tbody tr th:only-of-type {\n",
       "        vertical-align: middle;\n",
       "    }\n",
       "\n",
       "    .dataframe tbody tr th {\n",
       "        vertical-align: top;\n",
       "    }\n",
       "\n",
       "    .dataframe thead th {\n",
       "        text-align: right;\n",
       "    }\n",
       "</style>\n",
       "<table border=\"1\" class=\"dataframe\">\n",
       "  <thead>\n",
       "    <tr style=\"text-align: right;\">\n",
       "      <th></th>\n",
       "      <th>Total Count</th>\n",
       "      <th>Percentage of Players</th>\n",
       "    </tr>\n",
       "  </thead>\n",
       "  <tbody>\n",
       "    <tr>\n",
       "      <th>Male</th>\n",
       "      <td>484</td>\n",
       "      <td>84.03</td>\n",
       "    </tr>\n",
       "    <tr>\n",
       "      <th>Female</th>\n",
       "      <td>81</td>\n",
       "      <td>14.06</td>\n",
       "    </tr>\n",
       "    <tr>\n",
       "      <th>Other / Non-Disclosed</th>\n",
       "      <td>11</td>\n",
       "      <td>1.91</td>\n",
       "    </tr>\n",
       "  </tbody>\n",
       "</table>\n",
       "</div>"
      ],
      "text/plain": [
       "                       Total Count  Percentage of Players\n",
       "Male                           484                  84.03\n",
       "Female                          81                  14.06\n",
       "Other / Non-Disclosed           11                   1.91"
      ]
     },
     "execution_count": 15,
     "metadata": {},
     "output_type": "execute_result"
    }
   ],
   "source": [
    "group_gender = purchase_data.groupby(['Gender'])\n",
    "total_count = group_gender.nunique()[\"SN\"]\n",
    "\n",
    "summary_table = pd.DataFrame({\"Total Count\": total_count, \n",
    "                              \"Percentage of Players\": round(total_count / total_players * 100, 2)\n",
    "                             })\n",
    "\n",
    "del summary_table.index.name\n",
    "final_table= summary_table.sort_values(\"Percentage of Players\", ascending=False)\n",
    "\n",
    "final_table"
   ]
  },
  {
   "cell_type": "markdown",
   "metadata": {},
   "source": [
    "\n",
    "## Purchasing Analysis (Gender)"
   ]
  },
  {
   "cell_type": "markdown",
   "metadata": {},
   "source": [
    "* Run basic calculations to obtain purchase count, avg. purchase price, avg. purchase total per person etc. by gender\n",
    "\n",
    "\n",
    "\n",
    "\n",
    "* Create a summary data frame to hold the results\n",
    "\n",
    "\n",
    "* Optional: give the displayed data cleaner formatting\n",
    "\n",
    "\n",
    "* Display the summary data frame"
   ]
  },
  {
   "cell_type": "code",
   "execution_count": 16,
   "metadata": {},
   "outputs": [
    {
     "data": {
      "text/html": [
       "<style  type=\"text/css\" >\n",
       "</style>  \n",
       "<table id=\"T_5908fa86_91ff_11e9_9e73_a4d18cda8ace\" > \n",
       "<thead>    <tr> \n",
       "        <th class=\"blank level0\" ></th> \n",
       "        <th class=\"col_heading level0 col0\" >Purchase Count</th> \n",
       "        <th class=\"col_heading level0 col1\" >Average Purchase Price</th> \n",
       "        <th class=\"col_heading level0 col2\" >Average Purchase Value</th> \n",
       "        <th class=\"col_heading level0 col3\" >Avg Purchase Total per Person</th> \n",
       "    </tr>    <tr> \n",
       "        <th class=\"index_name level0\" >Gender</th> \n",
       "        <th class=\"blank\" ></th> \n",
       "        <th class=\"blank\" ></th> \n",
       "        <th class=\"blank\" ></th> \n",
       "        <th class=\"blank\" ></th> \n",
       "    </tr></thead> \n",
       "<tbody>    <tr> \n",
       "        <th id=\"T_5908fa86_91ff_11e9_9e73_a4d18cda8acelevel0_row0\" class=\"row_heading level0 row0\" >Female</th> \n",
       "        <td id=\"T_5908fa86_91ff_11e9_9e73_a4d18cda8acerow0_col0\" class=\"data row0 col0\" >113</td> \n",
       "        <td id=\"T_5908fa86_91ff_11e9_9e73_a4d18cda8acerow0_col1\" class=\"data row0 col1\" >$3.20</td> \n",
       "        <td id=\"T_5908fa86_91ff_11e9_9e73_a4d18cda8acerow0_col2\" class=\"data row0 col2\" >$361.94</td> \n",
       "        <td id=\"T_5908fa86_91ff_11e9_9e73_a4d18cda8acerow0_col3\" class=\"data row0 col3\" >$4.47</td> \n",
       "    </tr>    <tr> \n",
       "        <th id=\"T_5908fa86_91ff_11e9_9e73_a4d18cda8acelevel0_row1\" class=\"row_heading level0 row1\" >Male</th> \n",
       "        <td id=\"T_5908fa86_91ff_11e9_9e73_a4d18cda8acerow1_col0\" class=\"data row1 col0\" >652</td> \n",
       "        <td id=\"T_5908fa86_91ff_11e9_9e73_a4d18cda8acerow1_col1\" class=\"data row1 col1\" >$3.02</td> \n",
       "        <td id=\"T_5908fa86_91ff_11e9_9e73_a4d18cda8acerow1_col2\" class=\"data row1 col2\" >$1,967.64</td> \n",
       "        <td id=\"T_5908fa86_91ff_11e9_9e73_a4d18cda8acerow1_col3\" class=\"data row1 col3\" >$4.07</td> \n",
       "    </tr>    <tr> \n",
       "        <th id=\"T_5908fa86_91ff_11e9_9e73_a4d18cda8acelevel0_row2\" class=\"row_heading level0 row2\" >Other / Non-Disclosed</th> \n",
       "        <td id=\"T_5908fa86_91ff_11e9_9e73_a4d18cda8acerow2_col0\" class=\"data row2 col0\" >15</td> \n",
       "        <td id=\"T_5908fa86_91ff_11e9_9e73_a4d18cda8acerow2_col1\" class=\"data row2 col1\" >$3.35</td> \n",
       "        <td id=\"T_5908fa86_91ff_11e9_9e73_a4d18cda8acerow2_col2\" class=\"data row2 col2\" >$50.19</td> \n",
       "        <td id=\"T_5908fa86_91ff_11e9_9e73_a4d18cda8acerow2_col3\" class=\"data row2 col3\" >$4.56</td> \n",
       "    </tr></tbody> \n",
       "</table> "
      ],
      "text/plain": [
       "<pandas.io.formats.style.Styler at 0x11eb562e8>"
      ]
     },
     "execution_count": 16,
     "metadata": {},
     "output_type": "execute_result"
    }
   ],
   "source": [
    "\n",
    "purchase_count = group_gender[\"Purchase ID\"].count()\n",
    "\n",
    "avg_price = group_gender[\"Price\"].mean()\n",
    "\n",
    "avg_total = group_gender[\"Price\"].sum()\n",
    "\n",
    "avg_purchase_pp = avg_total/total_count\n",
    " \n",
    "gender = pd.DataFrame({\"Purchase Count\": purchase_count, \n",
    "                                    \"Average Purchase Price\": avg_price,\n",
    "                                    \"Average Purchase Value\":avg_total,\n",
    "                                    \"Avg Purchase Total per Person\": avg_purchase_pp})\n",
    "\n",
    "gender.index.name = \"Gender\"\n",
    "\n",
    "gender.style.format({\"Average Purchase Value\":\"${:,.2f}\",\n",
    "                                  \"Average Purchase Price\":\"${:,.2f}\",\n",
    "                                  \"Avg Purchase Total per Person\":\"${:,.2f}\"})"
   ]
  },
  {
   "cell_type": "markdown",
   "metadata": {},
   "source": [
    "## Age Demographics"
   ]
  },
  {
   "cell_type": "markdown",
   "metadata": {},
   "source": [
    "* Establish bins for ages\n",
    "\n",
    "\n",
    "* Categorize the existing players using the age bins. Hint: use pd.cut()\n",
    "\n",
    "\n",
    "* Calculate the numbers and percentages by age group\n",
    "\n",
    "\n",
    "* Create a summary data frame to hold the results\n",
    "\n",
    "\n",
    "* Optional: round the percentage column to two decimal points\n",
    "\n",
    "\n",
    "* Display Age Demographics Table\n"
   ]
  },
  {
   "cell_type": "code",
   "execution_count": 17,
   "metadata": {},
   "outputs": [
    {
     "data": {
      "text/html": [
       "<div>\n",
       "<style scoped>\n",
       "    .dataframe tbody tr th:only-of-type {\n",
       "        vertical-align: middle;\n",
       "    }\n",
       "\n",
       "    .dataframe tbody tr th {\n",
       "        vertical-align: top;\n",
       "    }\n",
       "\n",
       "    .dataframe thead th {\n",
       "        text-align: right;\n",
       "    }\n",
       "</style>\n",
       "<table border=\"1\" class=\"dataframe\">\n",
       "  <thead>\n",
       "    <tr style=\"text-align: right;\">\n",
       "      <th></th>\n",
       "      <th>Total Count</th>\n",
       "      <th>Percentage of Players</th>\n",
       "    </tr>\n",
       "  </thead>\n",
       "  <tbody>\n",
       "    <tr>\n",
       "      <th>&lt;10</th>\n",
       "      <td>17</td>\n",
       "      <td>2.95</td>\n",
       "    </tr>\n",
       "    <tr>\n",
       "      <th>10-14</th>\n",
       "      <td>22</td>\n",
       "      <td>3.82</td>\n",
       "    </tr>\n",
       "    <tr>\n",
       "      <th>15-19</th>\n",
       "      <td>107</td>\n",
       "      <td>18.58</td>\n",
       "    </tr>\n",
       "    <tr>\n",
       "      <th>20-24</th>\n",
       "      <td>258</td>\n",
       "      <td>44.79</td>\n",
       "    </tr>\n",
       "    <tr>\n",
       "      <th>25-29</th>\n",
       "      <td>77</td>\n",
       "      <td>13.37</td>\n",
       "    </tr>\n",
       "    <tr>\n",
       "      <th>30-34</th>\n",
       "      <td>52</td>\n",
       "      <td>9.03</td>\n",
       "    </tr>\n",
       "    <tr>\n",
       "      <th>35-39</th>\n",
       "      <td>31</td>\n",
       "      <td>5.38</td>\n",
       "    </tr>\n",
       "    <tr>\n",
       "      <th>40+</th>\n",
       "      <td>12</td>\n",
       "      <td>2.08</td>\n",
       "    </tr>\n",
       "  </tbody>\n",
       "</table>\n",
       "</div>"
      ],
      "text/plain": [
       "       Total Count  Percentage of Players\n",
       "<10             17                   2.95\n",
       "10-14           22                   3.82\n",
       "15-19          107                  18.58\n",
       "20-24          258                  44.79\n",
       "25-29           77                  13.37\n",
       "30-34           52                   9.03\n",
       "35-39           31                   5.38\n",
       "40+             12                   2.08"
      ]
     },
     "execution_count": 17,
     "metadata": {},
     "output_type": "execute_result"
    }
   ],
   "source": [
    "bins = [0, 9.99, 14.99, 19.99, 24.99, 29.99, 34.99, 39.99, 99999]\n",
    "group_names = [\"<10\", \"10-14\", \"15-19\", \"20-24\", \"25-29\", \"30-34\", \"35-39\", \"40+\"]\n",
    "\n",
    "purchase_data[\"Age Group\"] = pd.cut(purchase_data[\"Age\"],bins, labels=group_names)\n",
    "purchase_data\n",
    "\n",
    "\n",
    "age_group = purchase_data.groupby(\"Age Group\")\n",
    "\n",
    "total_age = age_group[\"SN\"].nunique()\n",
    "\n",
    "percentage_by_age = (total_age/total_players) * 100\n",
    "\n",
    "age_demographics = pd.DataFrame({\"Total Count\": total_age, \"Percentage of Players\": round(percentage_by_age,2)})\n",
    "\n",
    "del age_demographics.index.name\n",
    "\n",
    "\n",
    "age_demographics"
   ]
  },
  {
   "cell_type": "markdown",
   "metadata": {},
   "source": [
    "## Purchasing Analysis (Age)"
   ]
  },
  {
   "cell_type": "markdown",
   "metadata": {},
   "source": [
    "* Bin the purchase_data data frame by age\n",
    "\n",
    "\n",
    "* Run basic calculations to obtain purchase count, avg. purchase price, avg. purchase total per person etc. in the table below\n",
    "\n",
    "\n",
    "* Create a summary data frame to hold the results\n",
    "\n",
    "\n",
    "* Optional: give the displayed data cleaner formatting\n",
    "\n",
    "\n",
    "* Display the summary data frame"
   ]
  },
  {
   "cell_type": "code",
   "execution_count": 19,
   "metadata": {},
   "outputs": [
    {
     "data": {
      "text/html": [
       "<style  type=\"text/css\" >\n",
       "</style>  \n",
       "<table id=\"T_5da1fb74_91ff_11e9_9e73_a4d18cda8ace\" > \n",
       "<thead>    <tr> \n",
       "        <th class=\"blank level0\" ></th> \n",
       "        <th class=\"col_heading level0 col0\" >Purchase Count</th> \n",
       "        <th class=\"col_heading level0 col1\" >Average Purchase Price</th> \n",
       "        <th class=\"col_heading level0 col2\" >Total Purchase Value</th> \n",
       "        <th class=\"col_heading level0 col3\" >Average Purchase Total per Person</th> \n",
       "    </tr></thead> \n",
       "<tbody>    <tr> \n",
       "        <th id=\"T_5da1fb74_91ff_11e9_9e73_a4d18cda8acelevel0_row0\" class=\"row_heading level0 row0\" ><10</th> \n",
       "        <td id=\"T_5da1fb74_91ff_11e9_9e73_a4d18cda8acerow0_col0\" class=\"data row0 col0\" >23</td> \n",
       "        <td id=\"T_5da1fb74_91ff_11e9_9e73_a4d18cda8acerow0_col1\" class=\"data row0 col1\" >$3.35</td> \n",
       "        <td id=\"T_5da1fb74_91ff_11e9_9e73_a4d18cda8acerow0_col2\" class=\"data row0 col2\" >$77.13</td> \n",
       "        <td id=\"T_5da1fb74_91ff_11e9_9e73_a4d18cda8acerow0_col3\" class=\"data row0 col3\" >$4.54</td> \n",
       "    </tr>    <tr> \n",
       "        <th id=\"T_5da1fb74_91ff_11e9_9e73_a4d18cda8acelevel0_row1\" class=\"row_heading level0 row1\" >10-14</th> \n",
       "        <td id=\"T_5da1fb74_91ff_11e9_9e73_a4d18cda8acerow1_col0\" class=\"data row1 col0\" >28</td> \n",
       "        <td id=\"T_5da1fb74_91ff_11e9_9e73_a4d18cda8acerow1_col1\" class=\"data row1 col1\" >$2.96</td> \n",
       "        <td id=\"T_5da1fb74_91ff_11e9_9e73_a4d18cda8acerow1_col2\" class=\"data row1 col2\" >$82.78</td> \n",
       "        <td id=\"T_5da1fb74_91ff_11e9_9e73_a4d18cda8acerow1_col3\" class=\"data row1 col3\" >$3.76</td> \n",
       "    </tr>    <tr> \n",
       "        <th id=\"T_5da1fb74_91ff_11e9_9e73_a4d18cda8acelevel0_row2\" class=\"row_heading level0 row2\" >15-19</th> \n",
       "        <td id=\"T_5da1fb74_91ff_11e9_9e73_a4d18cda8acerow2_col0\" class=\"data row2 col0\" >136</td> \n",
       "        <td id=\"T_5da1fb74_91ff_11e9_9e73_a4d18cda8acerow2_col1\" class=\"data row2 col1\" >$3.04</td> \n",
       "        <td id=\"T_5da1fb74_91ff_11e9_9e73_a4d18cda8acerow2_col2\" class=\"data row2 col2\" >$412.89</td> \n",
       "        <td id=\"T_5da1fb74_91ff_11e9_9e73_a4d18cda8acerow2_col3\" class=\"data row2 col3\" >$3.86</td> \n",
       "    </tr>    <tr> \n",
       "        <th id=\"T_5da1fb74_91ff_11e9_9e73_a4d18cda8acelevel0_row3\" class=\"row_heading level0 row3\" >20-24</th> \n",
       "        <td id=\"T_5da1fb74_91ff_11e9_9e73_a4d18cda8acerow3_col0\" class=\"data row3 col0\" >365</td> \n",
       "        <td id=\"T_5da1fb74_91ff_11e9_9e73_a4d18cda8acerow3_col1\" class=\"data row3 col1\" >$3.05</td> \n",
       "        <td id=\"T_5da1fb74_91ff_11e9_9e73_a4d18cda8acerow3_col2\" class=\"data row3 col2\" >$1,114.06</td> \n",
       "        <td id=\"T_5da1fb74_91ff_11e9_9e73_a4d18cda8acerow3_col3\" class=\"data row3 col3\" >$4.32</td> \n",
       "    </tr>    <tr> \n",
       "        <th id=\"T_5da1fb74_91ff_11e9_9e73_a4d18cda8acelevel0_row4\" class=\"row_heading level0 row4\" >25-29</th> \n",
       "        <td id=\"T_5da1fb74_91ff_11e9_9e73_a4d18cda8acerow4_col0\" class=\"data row4 col0\" >101</td> \n",
       "        <td id=\"T_5da1fb74_91ff_11e9_9e73_a4d18cda8acerow4_col1\" class=\"data row4 col1\" >$2.90</td> \n",
       "        <td id=\"T_5da1fb74_91ff_11e9_9e73_a4d18cda8acerow4_col2\" class=\"data row4 col2\" >$293.00</td> \n",
       "        <td id=\"T_5da1fb74_91ff_11e9_9e73_a4d18cda8acerow4_col3\" class=\"data row4 col3\" >$3.81</td> \n",
       "    </tr>    <tr> \n",
       "        <th id=\"T_5da1fb74_91ff_11e9_9e73_a4d18cda8acelevel0_row5\" class=\"row_heading level0 row5\" >30-34</th> \n",
       "        <td id=\"T_5da1fb74_91ff_11e9_9e73_a4d18cda8acerow5_col0\" class=\"data row5 col0\" >73</td> \n",
       "        <td id=\"T_5da1fb74_91ff_11e9_9e73_a4d18cda8acerow5_col1\" class=\"data row5 col1\" >$2.93</td> \n",
       "        <td id=\"T_5da1fb74_91ff_11e9_9e73_a4d18cda8acerow5_col2\" class=\"data row5 col2\" >$214.00</td> \n",
       "        <td id=\"T_5da1fb74_91ff_11e9_9e73_a4d18cda8acerow5_col3\" class=\"data row5 col3\" >$4.12</td> \n",
       "    </tr>    <tr> \n",
       "        <th id=\"T_5da1fb74_91ff_11e9_9e73_a4d18cda8acelevel0_row6\" class=\"row_heading level0 row6\" >35-39</th> \n",
       "        <td id=\"T_5da1fb74_91ff_11e9_9e73_a4d18cda8acerow6_col0\" class=\"data row6 col0\" >41</td> \n",
       "        <td id=\"T_5da1fb74_91ff_11e9_9e73_a4d18cda8acerow6_col1\" class=\"data row6 col1\" >$3.60</td> \n",
       "        <td id=\"T_5da1fb74_91ff_11e9_9e73_a4d18cda8acerow6_col2\" class=\"data row6 col2\" >$147.67</td> \n",
       "        <td id=\"T_5da1fb74_91ff_11e9_9e73_a4d18cda8acerow6_col3\" class=\"data row6 col3\" >$4.76</td> \n",
       "    </tr>    <tr> \n",
       "        <th id=\"T_5da1fb74_91ff_11e9_9e73_a4d18cda8acelevel0_row7\" class=\"row_heading level0 row7\" >40+</th> \n",
       "        <td id=\"T_5da1fb74_91ff_11e9_9e73_a4d18cda8acerow7_col0\" class=\"data row7 col0\" >13</td> \n",
       "        <td id=\"T_5da1fb74_91ff_11e9_9e73_a4d18cda8acerow7_col1\" class=\"data row7 col1\" >$2.94</td> \n",
       "        <td id=\"T_5da1fb74_91ff_11e9_9e73_a4d18cda8acerow7_col2\" class=\"data row7 col2\" >$38.24</td> \n",
       "        <td id=\"T_5da1fb74_91ff_11e9_9e73_a4d18cda8acerow7_col3\" class=\"data row7 col3\" >$3.19</td> \n",
       "    </tr></tbody> \n",
       "</table> "
      ],
      "text/plain": [
       "<pandas.io.formats.style.Styler at 0x11fb61048>"
      ]
     },
     "execution_count": 19,
     "metadata": {},
     "output_type": "execute_result"
    }
   ],
   "source": [
    "\n",
    "purchase_count = age_group[\"Purchase ID\"].count()\n",
    "\n",
    "\n",
    "avg_purchase_price_age = age_group[\"Price\"].mean()\n",
    "\n",
    "total_purchase = age_group[\"Price\"].sum()\n",
    "\n",
    "avg_purchase_per_person_age = total_purchase/total_age\n",
    "\n",
    "age_demographics = pd.DataFrame({\"Purchase Count\": purchase_count,\n",
    "                                 \"Average Purchase Price\": avg_purchase_price_age,\n",
    "                                 \"Total Purchase Value\":total_purchase,\n",
    "                                 \"Average Purchase Total per Person\": avg_purchase_per_person_age})\n",
    "\n",
    "age_demographics.style.format({\"Average Purchase Price\":\"${:,.2f}\",\n",
    "                               \"Total Purchase Value\":\"${:,.2f}\",\n",
    "                               \"Average Purchase Total per Person\":\"${:,.2f}\"})"
   ]
  },
  {
   "cell_type": "markdown",
   "metadata": {},
   "source": [
    "## Top Spenders"
   ]
  },
  {
   "cell_type": "markdown",
   "metadata": {},
   "source": [
    "* Run basic calculations to obtain the results in the table below\n",
    "\n",
    "\n",
    "* Create a summary data frame to hold the results\n",
    "\n",
    "\n",
    "* Sort the total purchase value column in descending order\n",
    "\n",
    "\n",
    "* Optional: give the displayed data cleaner formatting\n",
    "\n",
    "\n",
    "* Display a preview of the summary data frame\n",
    "\n"
   ]
  },
  {
   "cell_type": "code",
   "execution_count": 20,
   "metadata": {},
   "outputs": [
    {
     "data": {
      "text/html": [
       "<div>\n",
       "<style scoped>\n",
       "    .dataframe tbody tr th:only-of-type {\n",
       "        vertical-align: middle;\n",
       "    }\n",
       "\n",
       "    .dataframe tbody tr th {\n",
       "        vertical-align: top;\n",
       "    }\n",
       "\n",
       "    .dataframe thead th {\n",
       "        text-align: right;\n",
       "    }\n",
       "</style>\n",
       "<table border=\"1\" class=\"dataframe\">\n",
       "  <thead>\n",
       "    <tr style=\"text-align: right;\">\n",
       "      <th></th>\n",
       "      <th>Purchase Count</th>\n",
       "      <th>Average Purchase Price</th>\n",
       "      <th>Total Purchase Value</th>\n",
       "    </tr>\n",
       "    <tr>\n",
       "      <th>SN</th>\n",
       "      <th></th>\n",
       "      <th></th>\n",
       "      <th></th>\n",
       "    </tr>\n",
       "  </thead>\n",
       "  <tbody>\n",
       "    <tr>\n",
       "      <th>Lisosia93</th>\n",
       "      <td>5</td>\n",
       "      <td>3.792000</td>\n",
       "      <td>18.96</td>\n",
       "    </tr>\n",
       "    <tr>\n",
       "      <th>Idastidru52</th>\n",
       "      <td>4</td>\n",
       "      <td>3.862500</td>\n",
       "      <td>15.45</td>\n",
       "    </tr>\n",
       "    <tr>\n",
       "      <th>Chamjask73</th>\n",
       "      <td>3</td>\n",
       "      <td>4.610000</td>\n",
       "      <td>13.83</td>\n",
       "    </tr>\n",
       "    <tr>\n",
       "      <th>Iral74</th>\n",
       "      <td>4</td>\n",
       "      <td>3.405000</td>\n",
       "      <td>13.62</td>\n",
       "    </tr>\n",
       "    <tr>\n",
       "      <th>Iskadarya95</th>\n",
       "      <td>3</td>\n",
       "      <td>4.366667</td>\n",
       "      <td>13.10</td>\n",
       "    </tr>\n",
       "  </tbody>\n",
       "</table>\n",
       "</div>"
      ],
      "text/plain": [
       "             Purchase Count  Average Purchase Price  Total Purchase Value\n",
       "SN                                                                       \n",
       "Lisosia93                 5                3.792000                 18.96\n",
       "Idastidru52               4                3.862500                 15.45\n",
       "Chamjask73                3                4.610000                 13.83\n",
       "Iral74                    4                3.405000                 13.62\n",
       "Iskadarya95               3                4.366667                 13.10"
      ]
     },
     "execution_count": 20,
     "metadata": {},
     "output_type": "execute_result"
    }
   ],
   "source": [
    "spender = purchase_data.groupby(\"SN\")\n",
    "\n",
    "purchase_count_spender = spender[\"Purchase ID\"].count()\n",
    "\n",
    "avg_purchase_price_spender = spender[\"Price\"].mean()\n",
    "\n",
    "purchase_total_spender = spender[\"Price\"].sum()\n",
    "\n",
    "top_spend = pd.DataFrame({\"Purchase Count\": purchase_count_spender,\n",
    "                             \"Average Purchase Price\": avg_purchase_price_spender,\n",
    "                             \"Total Purchase Value\": purchase_total_spender})\n",
    "\n",
    "top_spend.style.format({\"Average Purchase Total\":\"${:,.2f}\",\n",
    "                                 \"Average Purchase Price\":\"${:,.2f}\", \n",
    "                                 \"Total Purchase Value\":\"${:,.2f}\"})\n",
    "\n",
    "new_spenders = top_spend.sort_values([\"Total Purchase Value\"], ascending=False).head(5)\n",
    "new_spenders"
   ]
  },
  {
   "cell_type": "markdown",
   "metadata": {},
   "source": [
    "## Most Popular Items"
   ]
  },
  {
   "cell_type": "markdown",
   "metadata": {},
   "source": [
    "* Retrieve the Item ID, Item Name, and Item Price columns\n",
    "\n",
    "\n",
    "* Group by Item ID and Item Name. Perform calculations to obtain purchase count, item price, and total purchase value\n",
    "\n",
    "\n",
    "* Create a summary data frame to hold the results\n",
    "\n",
    "\n",
    "* Sort the purchase count column in descending order\n",
    "\n",
    "\n",
    "* Optional: give the displayed data cleaner formatting\n",
    "\n",
    "\n",
    "* Display a preview of the summary data frame\n",
    "\n"
   ]
  },
  {
   "cell_type": "code",
   "execution_count": 21,
   "metadata": {},
   "outputs": [
    {
     "data": {
      "text/html": [
       "<div>\n",
       "<style scoped>\n",
       "    .dataframe tbody tr th:only-of-type {\n",
       "        vertical-align: middle;\n",
       "    }\n",
       "\n",
       "    .dataframe tbody tr th {\n",
       "        vertical-align: top;\n",
       "    }\n",
       "\n",
       "    .dataframe thead th {\n",
       "        text-align: right;\n",
       "    }\n",
       "</style>\n",
       "<table border=\"1\" class=\"dataframe\">\n",
       "  <thead>\n",
       "    <tr style=\"text-align: right;\">\n",
       "      <th></th>\n",
       "      <th></th>\n",
       "      <th>Purchase Count</th>\n",
       "      <th>Item Price</th>\n",
       "      <th>Total Purchase Value</th>\n",
       "    </tr>\n",
       "    <tr>\n",
       "      <th>Item ID</th>\n",
       "      <th>Item Name</th>\n",
       "      <th></th>\n",
       "      <th></th>\n",
       "      <th></th>\n",
       "    </tr>\n",
       "  </thead>\n",
       "  <tbody>\n",
       "    <tr>\n",
       "      <th>178</th>\n",
       "      <th>Oathbreaker, Last Hope of the Breaking Storm</th>\n",
       "      <td>12</td>\n",
       "      <td>4.23</td>\n",
       "      <td>50.76</td>\n",
       "    </tr>\n",
       "    <tr>\n",
       "      <th>145</th>\n",
       "      <th>Fiery Glass Crusader</th>\n",
       "      <td>9</td>\n",
       "      <td>4.58</td>\n",
       "      <td>41.22</td>\n",
       "    </tr>\n",
       "    <tr>\n",
       "      <th>108</th>\n",
       "      <th>Extraction, Quickblade Of Trembling Hands</th>\n",
       "      <td>9</td>\n",
       "      <td>3.53</td>\n",
       "      <td>31.77</td>\n",
       "    </tr>\n",
       "    <tr>\n",
       "      <th>82</th>\n",
       "      <th>Nirvana</th>\n",
       "      <td>9</td>\n",
       "      <td>4.90</td>\n",
       "      <td>44.10</td>\n",
       "    </tr>\n",
       "    <tr>\n",
       "      <th>19</th>\n",
       "      <th>Pursuit, Cudgel of Necromancy</th>\n",
       "      <td>8</td>\n",
       "      <td>1.02</td>\n",
       "      <td>8.16</td>\n",
       "    </tr>\n",
       "  </tbody>\n",
       "</table>\n",
       "</div>"
      ],
      "text/plain": [
       "                                                      Purchase Count  \\\n",
       "Item ID Item Name                                                      \n",
       "178     Oathbreaker, Last Hope of the Breaking Storm              12   \n",
       "145     Fiery Glass Crusader                                       9   \n",
       "108     Extraction, Quickblade Of Trembling Hands                  9   \n",
       "82      Nirvana                                                    9   \n",
       "19      Pursuit, Cudgel of Necromancy                              8   \n",
       "\n",
       "                                                      Item Price  \\\n",
       "Item ID Item Name                                                  \n",
       "178     Oathbreaker, Last Hope of the Breaking Storm        4.23   \n",
       "145     Fiery Glass Crusader                                4.58   \n",
       "108     Extraction, Quickblade Of Trembling Hands           3.53   \n",
       "82      Nirvana                                             4.90   \n",
       "19      Pursuit, Cudgel of Necromancy                       1.02   \n",
       "\n",
       "                                                      Total Purchase Value  \n",
       "Item ID Item Name                                                           \n",
       "178     Oathbreaker, Last Hope of the Breaking Storm                 50.76  \n",
       "145     Fiery Glass Crusader                                         41.22  \n",
       "108     Extraction, Quickblade Of Trembling Hands                    31.77  \n",
       "82      Nirvana                                                      44.10  \n",
       "19      Pursuit, Cudgel of Necromancy                                 8.16  "
      ]
     },
     "execution_count": 21,
     "metadata": {},
     "output_type": "execute_result"
    }
   ],
   "source": [
    "\n",
    "items_group = purchase_data[[\"Item ID\", \"Item Name\", \"Price\"]]\n",
    "\n",
    "item = items_group.groupby([\"Item ID\",\"Item Name\"])\n",
    "\n",
    "purchase_count_item = item[\"Price\"].count()\n",
    "\n",
    "total_purchase_value = (item[\"Price\"].sum()) \n",
    "\n",
    "item_price = total_purchase_value/purchase_count_item\n",
    "\n",
    "most_popular = pd.DataFrame({\"Purchase Count\": purchase_count_item, \n",
    "                                   \"Item Price\": item_price,\n",
    "                                   \"Total Purchase Value\":total_purchase_value})\n",
    "\n",
    "most_popular.style.format({\"Item Price\":\"${:,.2f}\",\n",
    "                                \"Total Purchase Value\":\"${:,.2f}\"})\n",
    "\n",
    "new_popular = most_popular.sort_values([\"Purchase Count\"], ascending=False).head()\n",
    "new_popular"
   ]
  },
  {
   "cell_type": "markdown",
   "metadata": {},
   "source": [
    "## Most Profitable Items"
   ]
  },
  {
   "cell_type": "markdown",
   "metadata": {},
   "source": [
    "* Sort the above table by total purchase value in descending order\n",
    "\n",
    "\n",
    "* Optional: give the displayed data cleaner formatting\n",
    "\n",
    "\n",
    "* Display a preview of the data frame\n",
    "\n"
   ]
  },
  {
   "cell_type": "code",
   "execution_count": 22,
   "metadata": {
    "scrolled": true
   },
   "outputs": [
    {
     "data": {
      "text/html": [
       "<style  type=\"text/css\" >\n",
       "</style>  \n",
       "<table id=\"T_5f888a70_91ff_11e9_9e73_a4d18cda8ace\" > \n",
       "<thead>    <tr> \n",
       "        <th class=\"blank\" ></th> \n",
       "        <th class=\"blank level0\" ></th> \n",
       "        <th class=\"col_heading level0 col0\" >Purchase Count</th> \n",
       "        <th class=\"col_heading level0 col1\" >Item Price</th> \n",
       "        <th class=\"col_heading level0 col2\" >Total Purchase Value</th> \n",
       "    </tr>    <tr> \n",
       "        <th class=\"index_name level0\" >Item ID</th> \n",
       "        <th class=\"index_name level1\" >Item Name</th> \n",
       "        <th class=\"blank\" ></th> \n",
       "        <th class=\"blank\" ></th> \n",
       "        <th class=\"blank\" ></th> \n",
       "    </tr></thead> \n",
       "<tbody>    <tr> \n",
       "        <th id=\"T_5f888a70_91ff_11e9_9e73_a4d18cda8acelevel0_row0\" class=\"row_heading level0 row0\" >178</th> \n",
       "        <th id=\"T_5f888a70_91ff_11e9_9e73_a4d18cda8acelevel1_row0\" class=\"row_heading level1 row0\" >Oathbreaker, Last Hope of the Breaking Storm</th> \n",
       "        <td id=\"T_5f888a70_91ff_11e9_9e73_a4d18cda8acerow0_col0\" class=\"data row0 col0\" >12</td> \n",
       "        <td id=\"T_5f888a70_91ff_11e9_9e73_a4d18cda8acerow0_col1\" class=\"data row0 col1\" >$4.23</td> \n",
       "        <td id=\"T_5f888a70_91ff_11e9_9e73_a4d18cda8acerow0_col2\" class=\"data row0 col2\" >$50.76</td> \n",
       "    </tr>    <tr> \n",
       "        <th id=\"T_5f888a70_91ff_11e9_9e73_a4d18cda8acelevel0_row1\" class=\"row_heading level0 row1\" >82</th> \n",
       "        <th id=\"T_5f888a70_91ff_11e9_9e73_a4d18cda8acelevel1_row1\" class=\"row_heading level1 row1\" >Nirvana</th> \n",
       "        <td id=\"T_5f888a70_91ff_11e9_9e73_a4d18cda8acerow1_col0\" class=\"data row1 col0\" >9</td> \n",
       "        <td id=\"T_5f888a70_91ff_11e9_9e73_a4d18cda8acerow1_col1\" class=\"data row1 col1\" >$4.90</td> \n",
       "        <td id=\"T_5f888a70_91ff_11e9_9e73_a4d18cda8acerow1_col2\" class=\"data row1 col2\" >$44.10</td> \n",
       "    </tr>    <tr> \n",
       "        <th id=\"T_5f888a70_91ff_11e9_9e73_a4d18cda8acelevel0_row2\" class=\"row_heading level0 row2\" >145</th> \n",
       "        <th id=\"T_5f888a70_91ff_11e9_9e73_a4d18cda8acelevel1_row2\" class=\"row_heading level1 row2\" >Fiery Glass Crusader</th> \n",
       "        <td id=\"T_5f888a70_91ff_11e9_9e73_a4d18cda8acerow2_col0\" class=\"data row2 col0\" >9</td> \n",
       "        <td id=\"T_5f888a70_91ff_11e9_9e73_a4d18cda8acerow2_col1\" class=\"data row2 col1\" >$4.58</td> \n",
       "        <td id=\"T_5f888a70_91ff_11e9_9e73_a4d18cda8acerow2_col2\" class=\"data row2 col2\" >$41.22</td> \n",
       "    </tr>    <tr> \n",
       "        <th id=\"T_5f888a70_91ff_11e9_9e73_a4d18cda8acelevel0_row3\" class=\"row_heading level0 row3\" >92</th> \n",
       "        <th id=\"T_5f888a70_91ff_11e9_9e73_a4d18cda8acelevel1_row3\" class=\"row_heading level1 row3\" >Final Critic</th> \n",
       "        <td id=\"T_5f888a70_91ff_11e9_9e73_a4d18cda8acerow3_col0\" class=\"data row3 col0\" >8</td> \n",
       "        <td id=\"T_5f888a70_91ff_11e9_9e73_a4d18cda8acerow3_col1\" class=\"data row3 col1\" >$4.88</td> \n",
       "        <td id=\"T_5f888a70_91ff_11e9_9e73_a4d18cda8acerow3_col2\" class=\"data row3 col2\" >$39.04</td> \n",
       "    </tr>    <tr> \n",
       "        <th id=\"T_5f888a70_91ff_11e9_9e73_a4d18cda8acelevel0_row4\" class=\"row_heading level0 row4\" >103</th> \n",
       "        <th id=\"T_5f888a70_91ff_11e9_9e73_a4d18cda8acelevel1_row4\" class=\"row_heading level1 row4\" >Singed Scalpel</th> \n",
       "        <td id=\"T_5f888a70_91ff_11e9_9e73_a4d18cda8acerow4_col0\" class=\"data row4 col0\" >8</td> \n",
       "        <td id=\"T_5f888a70_91ff_11e9_9e73_a4d18cda8acerow4_col1\" class=\"data row4 col1\" >$4.35</td> \n",
       "        <td id=\"T_5f888a70_91ff_11e9_9e73_a4d18cda8acerow4_col2\" class=\"data row4 col2\" >$34.80</td> \n",
       "    </tr></tbody> \n",
       "</table> "
      ],
      "text/plain": [
       "<pandas.io.formats.style.Styler at 0x11fdd4588>"
      ]
     },
     "execution_count": 22,
     "metadata": {},
     "output_type": "execute_result"
    }
   ],
   "source": [
    "reupdate_popular = most_popular.sort_values([\"Total Purchase Value\"],ascending=False).head()\n",
    "reupdate_popular.style.format({\"Item Price\":\"${:,.2f}\",\n",
    "                                \"Total Purchase Value\":\"${:,.2f}\"})"
   ]
  },
  {
   "cell_type": "code",
   "execution_count": null,
   "metadata": {},
   "outputs": [],
   "source": []
  },
  {
   "cell_type": "code",
   "execution_count": null,
   "metadata": {},
   "outputs": [],
   "source": []
  },
  {
   "cell_type": "code",
   "execution_count": null,
   "metadata": {},
   "outputs": [],
   "source": []
  },
  {
   "cell_type": "code",
   "execution_count": null,
   "metadata": {},
   "outputs": [],
   "source": []
  }
 ],
 "metadata": {
  "anaconda-cloud": {},
  "kernel_info": {
   "name": "python3"
  },
  "kernelspec": {
   "display_name": "Python 3",
   "language": "python",
   "name": "python3"
  },
  "language_info": {
   "codemirror_mode": {
    "name": "ipython",
    "version": 3
   },
   "file_extension": ".py",
   "mimetype": "text/x-python",
   "name": "python",
   "nbconvert_exporter": "python",
   "pygments_lexer": "ipython3",
   "version": "3.7.1"
  },
  "nteract": {
   "version": "0.2.0"
  }
 },
 "nbformat": 4,
 "nbformat_minor": 2
}
